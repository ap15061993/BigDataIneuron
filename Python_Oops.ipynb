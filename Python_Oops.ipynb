{
 "cells": [
  {
   "cell_type": "raw",
   "id": "87248c3c-834e-44ce-bb7d-02c007a06540",
   "metadata": {},
   "source": [
    "Q1. What is the purpose of Python's OOP?\n",
    "\n",
    "Ans-\n",
    "Increased efficiency: OOP can help to improve the efficiency of your code by allowing you to reuse code that has already been written. This can save you time and effort, and it can also help to make your code more consistent.\n",
    "Improved organization: OOP can help to organize your code in a more logical and intuitive way. This can make it easier for you to find the code you need, and it can also make it easier for other programmers to understand your code.\n",
    "Increased flexibility: OOP can help to make your code more flexible by allowing you to easily modify or extend it without affecting the rest of the code. This can be helpful if you need to make changes to your code in the future, or if you need to add new features to your code.\n",
    "Increased scalability: OOP can help to make your code more scalable by allowing you to easily add new objects to your code. This can be helpful if you need to create a large or complex application, or if you need to add new features to your application in the future."
   ]
  },
  {
   "cell_type": "raw",
   "id": "69909044-817e-4032-9c86-d337e54a2545",
   "metadata": {},
   "source": [
    "Q2. Where does an inheritance search look for an attribute?\n",
    "\n",
    "\n",
    "An inheritance search looks for an attribute first in the instance object, then in the class the instance was created from, then in all higher superclasses, progressing from left to right (by default). The search stops at the first place the attribute is found."
   ]
  },
  {
   "cell_type": "raw",
   "id": "08b8bfbf-d0c1-485f-836c-813558a33a17",
   "metadata": {},
   "source": [
    "Q3. How do you distinguish between a class object and an instance object?\n",
    "\n",
    "Class is a user-defined datatype that has its own data members and member functions whereas an object is an instance of class by which we can access the data members and member functions of the class"
   ]
  },
  {
   "cell_type": "raw",
   "id": "23ddf2a7-24e0-41d7-92a8-d9c7874bf97c",
   "metadata": {},
   "source": [
    "Q4. What makes the first argument in a class’s method function special?\n",
    "\n",
    "\n",
    "The first argument of every class method, including init, is always a reference to the current instance of the class. By convention, this argument is always named self. In the init method, self refers to the newly created object; in other class methods, it refers to the instance whose method was called"
   ]
  },
  {
   "cell_type": "raw",
   "id": "8922f212-894f-42e2-a9da-bcb9ec38f794",
   "metadata": {},
   "source": [
    "Q5. What is the purpose of the init method?\n",
    "\n",
    "The __init__ method lets the class initialize the object's attributes and serves no other purpose."
   ]
  },
  {
   "cell_type": "raw",
   "id": "df718042-88bf-48c8-b7a3-ae5421192580",
   "metadata": {},
   "source": [
    "Q6. What is the process for creating a class instance?\n",
    "\n",
    "To create instances of a class, you call the class using class name and pass in whatever arguments its __init__ method accepts."
   ]
  },
  {
   "cell_type": "raw",
   "id": "e5c92a16-2001-4b61-883b-28f87c643b9a",
   "metadata": {},
   "source": [
    "Q7. What is the process for creating a class?\n",
    "\n",
    "This is done by using the class keyword, followed by the name of the class and a pair of parentheses. The parentheses can contain a list of parameters that will be passed to the constructor when an object of the class is created.\n",
    "class Circle {\n",
    "\n",
    "  int radius;\n",
    "\n",
    "  Circle(int radius) {\n",
    "    this.radius = radius;\n",
    "  }\n",
    "\n",
    "  double getArea() {\n",
    "    return Math.PI * radius * radius;\n",
    "  }\n",
    "\n",
    "} "
   ]
  },
  {
   "cell_type": "raw",
   "id": "3b39fc45-bf00-4fea-afd7-a5a70c8fec66",
   "metadata": {},
   "source": [
    "Q8. How would you define the superclasses of a class?\n",
    "\n",
    "Ans-\n",
    "A superclass is the class from which many subclasses can be created. The subclasses inherit the characteristics of a superclass. The superclass is also known as the parent class or base class. "
   ]
  },
  {
   "cell_type": "raw",
   "id": "911e05a9-5f8b-4160-809d-dbaf5d2ed07e",
   "metadata": {},
   "source": [
    "Q9. What is the relationship between classes and modules?\n",
    "\n",
    "Modules are collections of methods and constants. They cannot generate instances. Classes may generate instances (objects), and have per-instance state (instance variables)."
   ]
  },
  {
   "cell_type": "raw",
   "id": "800e5ba4-daac-40b9-a22c-c1a698512436",
   "metadata": {},
   "source": [
    "Q10. How do you make instances and classes?\n",
    "\n",
    "To create instances of a class, you call the class using the class name and pass in whatever arguments its __init__ method accepts. Here's an example\n",
    "class MyClass:\n",
    "  def __init__(self, num1, num2):\n",
    "    self.num1 = num1\n",
    "    self.num2 = num2\n",
    "\n",
    "my_instance = MyClass(1, 2)\n",
    "\n",
    "print(my_instance.num1)"
   ]
  },
  {
   "cell_type": "raw",
   "id": "3a9a4cf4-3d66-4624-92c4-aa7fc9db2b11",
   "metadata": {},
   "source": [
    "Q11. Where and how should be class attributes created?\n",
    "\n",
    "Class attributes should be created in the class body, usually at the top, for readability. This will make it clear to anyone reading the code that these attributes are associated with the class and not with any particular instance of the class."
   ]
  },
  {
   "cell_type": "raw",
   "id": "04025d6a-7dc3-4feb-94bd-87a284086777",
   "metadata": {},
   "source": [
    "Q12. Where and how are instance attributes created?\n",
    "\n",
    "An instance attribute is a Python variable belonging to one, and only one, object. This variable is only accessible in the scope of this object, and it's defined inside the constructor function, __init__(self,..) of the class."
   ]
  },
  {
   "cell_type": "raw",
   "id": "4b653b08-115e-4ee9-8d8a-ac8d78f843ba",
   "metadata": {},
   "source": [
    "Q13. What does the term \"self\" in a Python class mean?\n",
    "\n",
    "Self is a variable that signifies the instance of the class. SELF helps in accessing the variables, methods, and attributes of a defined class in Python. In other languages using an object-oriented approach, It is passed as a hidden parameter to the methods that are defined by an object"
   ]
  },
  {
   "cell_type": "raw",
   "id": "80f97acd-a9ec-4012-aaad-9b2ad42ee0f4",
   "metadata": {},
   "source": [
    "Q14. How does a Python class handle operator overloading?\n",
    "\n",
    "\n",
    "Python provides some special function or magic function that is automatically invoked when it is associated with that particular operator. For example, when we use + operator, the magic method __add__ is automatically invoked in which the operation for + operator is defined."
   ]
  },
  {
   "cell_type": "raw",
   "id": "9ff4f5f2-5cd3-42d5-bf7b-49cb8ccfe019",
   "metadata": {},
   "source": [
    "Q15. When do you consider allowing operator overloading of your classes?\n",
    "\n",
    "It should be used sparingly. Operator overloading can make code more difficult to read and understand.\n",
    "It should be consistent. The same operator should be used for the same operation on all types of data.\n",
    "It should be safe. Operator overloading should not be used in a way that could cause data corruption or other errors."
   ]
  },
  {
   "cell_type": "raw",
   "id": "329f7163-7783-40e2-bfdc-6f10391d9bf9",
   "metadata": {},
   "source": [
    "Q16. What is the most popular form of operator overloading?\n",
    "\n",
    "The most popular form of operator overloading is binary operator overloading. This is because it allows you to redefine the behavior of binary operators, such as +, -, *, and /, for user-defined data types. This can be useful for a variety of purposes, such as making it easier to work with complex data types or providing more intuitive syntax for performing operations on user-defined data types."
   ]
  },
  {
   "cell_type": "raw",
   "id": "23d04f80-d0d8-46dc-8ac1-f1a3b5325889",
   "metadata": {},
   "source": [
    "Q17. What are the two most important concepts to grasp in order to comprehend Python OOP code?\n",
    "\n",
    "Ans-\n",
    "The two most important concepts to grasp in order to comprehend Python OOP code are classes and objects."
   ]
  },
  {
   "cell_type": "raw",
   "id": "5e89f269-ace3-4a4a-bd32-e62ca3178941",
   "metadata": {},
   "source": [
    "Q18. Describe three applications for exception processing.\n",
    "\n",
    "If you have some suspicious code that may raise an exception, you can defend your program by placing the suspicious code in a try: block. After the try: block, include an except: statement, followed by a block of code which handles the problem as elegantly as possible.\n",
    "\n",
    "The try: block contains statements which are susceptible for exception\n",
    "\n",
    "If exception occurs, the program jumps to the except: block.\n",
    "\n",
    "If no exception in the try: block, the except: block is skipped.\n",
    "\n",
    "try:\n",
    "   fh = open(\"testfile\", \"w\")\n",
    "   fh.write(\"This is my test file for exception handling!!\")\n",
    "except IOError:\n",
    "   print (\"Error: can\\'t find file or read data\")\n",
    "else:\n",
    "   print (\"Written content in the file successfully\")\n",
    "   fh.close()"
   ]
  },
  {
   "cell_type": "raw",
   "id": "99cc4933-575c-4a9f-b158-89245b76963a",
   "metadata": {},
   "source": [
    "Q19. What happens if you don't do something extra to treat an exception?\n",
    "\n",
    "Ans-When an exception occurred, if you don't handle it, the program terminates abruptly and the code past the line that caused the exception will not get executed."
   ]
  },
  {
   "cell_type": "raw",
   "id": "e4e3fa72-aa44-491f-a980-0815e02f9703",
   "metadata": {},
   "source": [
    "Q20. What are your options for recovering from an exception in your script?\n",
    "\n",
    "Ans-There are a few different options for recovering from an exception in your script in Python. One option is to use the try/except block. The try block will contain the code that you want to execute, and the except block will contain the code that you want to execute if an exception occurs. For example:\n",
    "try:\n",
    "    # Do something that might raise an exception\n",
    "except Exception as e:\n",
    "    # Handle the exception\n",
    "    print(e)"
   ]
  },
  {
   "cell_type": "raw",
   "id": "8d34f8f2-8684-44b6-8599-d02061c444d9",
   "metadata": {},
   "source": [
    "Q21. Describe two methods for triggering exceptions in your script.\n",
    "\n",
    "Ans-\n",
    "Using the raise keyword: The raise keyword can be used to manually trigger an exception. For example, the following code will raise a ValueError exception:\n",
    "raise ValueError(\"This is an example of a manually raised exception\")\n",
    "Use code with caution.\n",
    "Learn more\n",
    "Using the assert statement: The assert statement can be used to check a condition, and if the condition is not met, an exception will be raised. For example, the following code will raise an AssertionError exception if the value of x is not equal to 10:\n",
    "assert x == 10, \"The value of x is not equal to 10\""
   ]
  },
  {
   "cell_type": "raw",
   "id": "d0e402b3-efe6-4a42-9adf-5419b9c02b25",
   "metadata": {},
   "source": [
    "Q22. Identify two methods for specifying actions to be executed at termination time, regardless of\n",
    "whether or not an exception exists.\n",
    "\n",
    "Ans-\n",
    "try:\n",
    "    # Do something that might raise an exception\n",
    "    open('myfile.txt')\n",
    "except FileNotFoundError:\n",
    "    # Handle the exception\n",
    "    print('File not found.')\n",
    "finally:\n",
    "    # Close the file, regardless of whether or not an exception was raised\n",
    "    file.close()"
   ]
  },
  {
   "cell_type": "raw",
   "id": "000bb29d-f8cd-4e71-82ef-93ac62230e70",
   "metadata": {},
   "source": [
    "Q23. What is the purpose of the try statement?\n",
    "\n",
    "Ans-\n",
    "inside the try block we used to write code in which we can expect code may block normal termination."
   ]
  },
  {
   "cell_type": "raw",
   "id": "a45b317c-0f75-4fc2-b554-4342f05d1d3d",
   "metadata": {},
   "source": [
    "Q24. What are the two most popular try statement variations?\n",
    "\n",
    "The code we want to safeguard goes inside the try portion of the block. Afterwards, we define what happens when something goes wrong within the except.\n",
    "\n",
    "try:\n",
    "   print(x)\n",
    "except Exception:\n",
    "   print(\"Something broke!\")\n",
    "# Something broke!"
   ]
  },
  {
   "cell_type": "raw",
   "id": "0d6f4aa2-f9c0-4538-bb22-36c7b18e08f1",
   "metadata": {},
   "source": [
    "Q25. What is the purpose of the raise statement?\n",
    "\n",
    "Ans-\n",
    "The raise keyword is used to raise an exception.\n",
    "\n",
    "x = -1\n",
    "\n",
    "if x < 0:\n",
    "  raise Exception(\"Sorry, no numbers below zero\")"
   ]
  },
  {
   "cell_type": "raw",
   "id": "d549fe65-8a58-4f57-9943-961be2773fbd",
   "metadata": {},
   "source": [
    "Q26. What does the assert statement do, and what other statement is it like?\n",
    "\n",
    "Ans-\n",
    "The assert statement is used to check the validity of an expression or condition. If the expression is true, the statement continues to execute. If the expression is false, the statement raises an AssertionError exception. The assert statement can be used to debug code by checking for errors or unexpected conditions.\n",
    "The assert statement is similar to the if statement, but the assert statement is typically used for debugging purposes. The if statement is typically used for controlling the flow of code."
   ]
  },
  {
   "cell_type": "raw",
   "id": "0003efa9-c737-4b53-85c5-acd9ac133d7c",
   "metadata": {},
   "source": [
    "Q27. What is the purpose of the with/as argument, and what other statement is it like?\n",
    "\n",
    "Ans-\n",
    "\n",
    "The with/as argument is used to ensure that a resource is closed immediately after processing. This is especially important for file streams, as it prevents the file from being left open and unavailable for other users. The with/as argument is similar to the try/finally statement, but it is more concise and easier to use."
   ]
  },
  {
   "cell_type": "raw",
   "id": "1a5d2118-3cdf-4f11-8256-3fedb16fc53b",
   "metadata": {},
   "source": [
    "Q28. What are *args, **kwargs?\n",
    "\n",
    "Ans-\n",
    "In Python, we can pass a variable number of arguments to a function using special symbols. There are two special symbols:\n",
    "\n",
    "*args (Non Keyword Arguments)\n",
    "**kwargs (Keyword Arguments)\n",
    "We use *args and **kwargs as an argument when we are unsure about the number of arguments to pass in the functions.\n",
    "\n",
    "def adder(*num):\n",
    "    sum = 0\n",
    "    \n",
    "    for n in num:\n",
    "        sum = sum + n\n",
    "\n",
    "    print(\"Sum:\",sum)\n",
    "\n",
    "adder(3,5)\n",
    "adder(4,5,6,7)\n",
    "adder(1,2,3,5,6)\n",
    "\n",
    "Python **kwargs\n",
    "Python passes variable length non keyword argument to function using *args but we cannot use this to pass keyword argument. For this problem Python has got a solution called **kwargs, it allows us to pass the variable length of keyword arguments to the function.\n",
    "\n",
    "def intro(**data):\n",
    "    print(\"\\nData type of argument:\",type(data))\n",
    "\n",
    "    for key, value in data.items():\n",
    "        print(\"{} is {}\".format(key,value))\n",
    "\n",
    "intro(Firstname=\"Sita\", Lastname=\"Sharma\", Age=22, Phone=1234567890)\n",
    "intro(Firstname=\"John\", Lastname=\"Wood\", Email=\"johnwood@nomail.com\", Country=\"Wakanda\", Age=25, Phone=9876543210)"
   ]
  },
  {
   "cell_type": "raw",
   "id": "93862701-bcb4-4341-a92a-a719213a9c18",
   "metadata": {},
   "source": [
    "Q29. How can I pass optional or keyword parameters from one function to another?\n",
    "\n",
    "Ans-\n",
    "In Python, you can pass optional or keyword parameters from one function to another using the * and ** specifiers in the function's parameter list. This gives us positional arguments as a tuple and the keyword arguments as a dictionary.\n",
    "def outer(func, *args, **kwargs):\n",
    "  return func(*args, **kwargs)\n",
    "\n",
    "def inner(arg1, arg2):\n",
    "  return arg1 + arg2\n",
    "\n",
    "result = outer(inner, 1, 2)\n",
    "\n",
    "print(result)"
   ]
  },
  {
   "cell_type": "raw",
   "id": "2a98fd9d-152f-4c34-b8e9-92660f98b367",
   "metadata": {},
   "source": [
    "Q30. What are Lambda Functions?\n",
    "\n",
    "Ans-\n",
    "\n",
    "A lambda function is a small anonymous function.\n",
    "\n",
    "A lambda function can take any number of arguments, but can only have one expression.\n",
    "lambda arguments : expression\n",
    "x = lambda a : a + 10\n",
    "print(x(5))"
   ]
  },
  {
   "cell_type": "raw",
   "id": "edd7ad56-f42e-4af9-945b-55ab454a4a96",
   "metadata": {},
   "source": [
    "Q31. Explain Inheritance in Python with an example?\n",
    "\n",
    "Ans-\n",
    "Inheritance in Python is a feature that allows a class to inherit the properties and methods of another class. This can be used to create a hierarchy of classes, with each class inheriting from the one above it. Inheritance can be used to reuse code and to create more complex and sophisticated classes.\n",
    "\n",
    "class Animal:\n",
    "    def __init__(self, name):\n",
    "        self.name = name\n",
    "\n",
    "    def eat(self):\n",
    "        print(\"I'm eating!\")\n",
    "\n",
    "class Dog(Animal):\n",
    "    def __init__(self, name, breed):\n",
    "        super().__init__(name)\n",
    "        self.breed = breed\n",
    "\n",
    "    def bark(self):\n",
    "        print(\"Woof!\")\n",
    "\n",
    "d = Dog(\"Fido\", \"Golden Retriever\")\n",
    "print(d.name)\n",
    "# Output: Fido\n",
    "print(d.breed)\n",
    "# Output: Golden Retriever\n",
    "d.bark()\n",
    "# Output: Woof!"
   ]
  },
  {
   "cell_type": "raw",
   "id": "73292536-9ffb-4593-ab3c-8f8399852410",
   "metadata": {},
   "source": [
    "Q33. Which methods/functions do we use to determine the type of instance and inheritance?\n",
    "\n",
    "In Python, you can use the isinstance() and issubclass() functions to determine the type of instance and inheritance."
   ]
  },
  {
   "cell_type": "raw",
   "id": "d08d2ee2-6d96-4fe8-aff7-77f8dbe007cd",
   "metadata": {},
   "source": [
    "Q34.Explain the use of the 'nonlocal' keyword in Python.\n",
    "\n",
    "Ans-\n",
    "The nonlocal keyword is used to work with variables inside nested functions, where the variable should not belong to the inner function. Use the keyword nonlocal to declare that the variable is not local."
   ]
  },
  {
   "cell_type": "raw",
   "id": "ef6f0855-5c5b-4d84-b3b9-1f7af8817d36",
   "metadata": {},
   "source": [
    "Q35. What is the global keyword?\n",
    "\n",
    "The global keyword in Python allows you to modify a variable outside of the current scope. It is used to create global variables in Python from a non-global scope, i.e. inside a function. Global keyword is used inside a function only when we want to do assignments or when we want to change a variable\n",
    "def my_function():\n",
    "  global x\n",
    "  x = 10\n",
    "\n",
    "my_function()\n",
    "\n",
    "print(x)"
   ]
  }
 ],
 "metadata": {
  "kernelspec": {
   "display_name": "Python 3 (ipykernel)",
   "language": "python",
   "name": "python3"
  },
  "language_info": {
   "codemirror_mode": {
    "name": "ipython",
    "version": 3
   },
   "file_extension": ".py",
   "mimetype": "text/x-python",
   "name": "python",
   "nbconvert_exporter": "python",
   "pygments_lexer": "ipython3",
   "version": "3.10.6"
  }
 },
 "nbformat": 4,
 "nbformat_minor": 5
}
