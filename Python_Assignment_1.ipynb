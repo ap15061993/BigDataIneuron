{
 "cells": [
  {
   "cell_type": "raw",
   "id": "07e3b65e-3ae2-4ff6-8100-e8ec238e49bb",
   "metadata": {},
   "source": [
    "Q1. Why do we call Python as a general purpose and high-level programming language?\n",
    "\n",
    "Ans--It's easy to learn, so it's great for people with non-tech backgrounds.\n",
    "It's emphasis on clarity and readability makes it fantastic for groups, and easy to maintain over time.\n",
    "It's mature enough that there are no glaring holes in its design.Python is high level programming language and hence it is programmer friendly language. Being a programmer we are not required to concentrate low level activities like memory management and security etc."
   ]
  },
  {
   "cell_type": "raw",
   "id": "e8b6f9fc-2865-40a0-8f9b-1c41097cf588",
   "metadata": {},
   "source": [
    "Q2. Why is Python called a dynamically typed language?\n",
    "\n",
    "Ans- In Python we are not required to declare type for variables. Whenever we are assigning the value, based on value, type will be allocated automatically.Hence Python is considered as dynamically typed language. But Java, C etc are Statically Typed Languages b'z we have to provide type at the beginning only.  This dynamic typing nature will provide more flexibility to the programmer.\n"
   ]
  },
  {
   "cell_type": "raw",
   "id": "0096c127-a955-4d55-ab66-b616fa2976bd",
   "metadata": {},
   "source": [
    "Q3. List some pros and cons of Python programming language?\n",
    "\n",
    "Ans- Pros\t                Cons\n",
    "Beginner-    friendly\t    Issues with design\n",
    "Large Community\t            Slower than compiled languages\n",
    "Flexible and Extensible \tSecurity\n",
    "Extensive Libraries       \tWork Environment"
   ]
  },
  {
   "cell_type": "raw",
   "id": "399e6630-f63a-47a6-af88-7325c0161be8",
   "metadata": {},
   "source": [
    "Q4. In what all domains can we use Python?\n",
    "\n",
    "From web development to data analysis, machine learning to automation, python has become an indispensable tool for solving complex problems efficiently and effectively. In Python except mobile aaplication rest all the application like desktop ,netwoking we are using python."
   ]
  },
  {
   "cell_type": "raw",
   "id": "2dc6f8c6-8b63-4b4d-9c66-bd5078088580",
   "metadata": {},
   "source": [
    "Q5. What are variable and how can we declare them?\n",
    "\n",
    "Ans-variable is the name of memory location where we are going to store some value. and we can declare variale like \n",
    "a=10\n",
    "b=10.5, so in python we no need to specifiy the data type based on the value its auto identify the type of data."
   ]
  },
  {
   "cell_type": "raw",
   "id": "c77464fb-fbb6-44f0-bc6e-c8d973cb6c08",
   "metadata": {},
   "source": [
    "Q6. How can we take an input from the user in Python?\n",
    "\n",
    "Ans-input() function is used to take input from user. \n",
    "like name = input(\"What is your name? \")\n",
    "print(\"Hello, \" + name + \"!\")"
   ]
  },
  {
   "cell_type": "raw",
   "id": "b412b535-5049-480c-82a9-e2d8592ea0c4",
   "metadata": {},
   "source": [
    "Q7. What is the default datatype of the value that has been taken as an input using input() function?\n",
    "\n",
    "Ans-input() returns a string."
   ]
  },
  {
   "cell_type": "raw",
   "id": "bc54a6b5-4778-4f42-b8af-03fe0f829478",
   "metadata": {},
   "source": [
    "Q8. What is type casting?\n",
    "\n",
    "Ans--as we know input() function always returns a string type. and if we want to convert value from one type another type is called type casting . like string to int using int() ."
   ]
  },
  {
   "cell_type": "raw",
   "id": "d88c7776-aafe-4f03-b2a1-9103d646f70e",
   "metadata": {},
   "source": [
    "Q9. Can we take more than one input from the user using single input() function? If yes, how? If no, why?\n",
    "Ans-\n",
    "Python user can take multiple values or inputs in one line by two methods. \n",
    "Using split() method\n",
    "Using List comprehension\n",
    "input().split(separator, maxsplit)\n",
    "x, y = input(\"Enter two values: \").split()\n",
    "print(\"Number of boys: \", x)\n",
    "print(\"Number of girls: \", y)\n",
    "\n",
    "list comprehension \n",
    "x, y = [int(x) for x in input(\"Enter two values: \").split()]\n",
    "print(\"First Number is: \", x)\n",
    "print(\"Second Number is: \", y)"
   ]
  },
  {
   "cell_type": "raw",
   "id": "43adb79b-76de-4f1b-8089-4e09252bb3a2",
   "metadata": {},
   "source": [
    "Q10. What are keywords?\n",
    "\n",
    "Ans-Kewords are the reseserved worked which has special meaning in python .\n",
    "import keyword \n",
    "keyword.kwlist \n",
    "['False', 'None', 'True', 'and', 'as', 'assert', 'break', 'class', 'continue', 'def', 'del', 'elif', 'else', 'except', 'finally', 'for', 'from', 'global', 'if', 'import', 'in', 'is', 'lambda', 'nonlocal', 'not', 'or', 'pass', 'raise', 'return', 'try', 'while', 'with', 'yield']"
   ]
  },
  {
   "cell_type": "raw",
   "id": "7e17437c-06b0-471e-80f6-706a70cba6d2",
   "metadata": {},
   "source": [
    "Q11. Can we use keywords as a variable? Support your answer with reason.\n",
    "\n",
    "Ans-we can't use keywords as a variable because keywords has a special meaning in python if we will use then we will get error."
   ]
  },
  {
   "cell_type": "raw",
   "id": "1582a73e-f000-4b47-9178-cfdd9c7ce9e9",
   "metadata": {},
   "source": [
    "Q12. What is indentation? What's the use of indentaion in Python?\n",
    "\n",
    "Ans-\n",
    "Indentation in Python refers to the number of spaces or tabs used to start a line of code. It is used to indicate the start and end of blocks of code, such as if-statements, loops, and functions."
   ]
  },
  {
   "cell_type": "raw",
   "id": "bf2be735-f0e9-483b-8eb0-301b614de56f",
   "metadata": {},
   "source": [
    "Q13. How can we throw some output in Python?\n",
    "Ans-In Python, you can use the print() function to print output to the screen or any other standard output device. The message can be a string or any other object, which will be converted to a string before being written to the screen.\n",
    "like print(\"hello python\")"
   ]
  },
  {
   "cell_type": "raw",
   "id": "03e71ea6-9cb5-4501-8f8d-ae279a9ef65d",
   "metadata": {},
   "source": [
    "\n",
    "Q14. What are operators in Python?\n",
    "\n",
    "Ans-Operator is a symbol that performs certain operations.  Python provides the following set of operators\n",
    "1) Arithmetic Operators 2) Relational Operators OR Comparison Operators 3) Logical operators 4) Bitwise oeprators 5) Assignment operators 6) Special operators"
   ]
  },
  {
   "cell_type": "raw",
   "id": "caff17c2-cd7c-43a7-b037-ec702ea3351b",
   "metadata": {},
   "source": [
    "Q15. What is difference between / and // operators?\n",
    "\n",
    "Ans-\n",
    " / operator always performs floating point arithmetic. Hence it will always returns float value.\n",
    " But Floor division (//) can perform both floating point and integral arithmetic. If arguments are int type then result is int type. If atleast one argument is float type then result is float type."
   ]
  },
  {
   "cell_type": "raw",
   "id": "d70cfcc7-4804-489b-80d4-1d94afbf0cd9",
   "metadata": {},
   "source": [
    "Q16. Write a code that gives following as an output."
   ]
  },
  {
   "cell_type": "code",
   "execution_count": 5,
   "id": "1e206440-4456-4b6c-8f8f-4bdbaee8a204",
   "metadata": {},
   "outputs": [
    {
     "name": "stdout",
     "output_type": "stream",
     "text": [
      "iNeuroniNeuroniNeuroniNeuron\n"
     ]
    }
   ],
   "source": [
    "a='iNeuron'\n",
    "print(a*4)"
   ]
  },
  {
   "cell_type": "raw",
   "id": "5126894f-a202-40d5-ac28-d8a4fbaa9a4b",
   "metadata": {},
   "source": [
    "Q17. Write a code to take a number as an input from the user and check if the number is odd or even."
   ]
  },
  {
   "cell_type": "code",
   "execution_count": 8,
   "id": "237433e0-9a1b-44d9-b94a-75b0f5f5c00c",
   "metadata": {},
   "outputs": [
    {
     "name": "stdin",
     "output_type": "stream",
     "text": [
      "Enter a number:  3\n"
     ]
    },
    {
     "name": "stdout",
     "output_type": "stream",
     "text": [
      "The number is odd.\n"
     ]
    }
   ],
   "source": [
    "number = int(input(\"Enter a number: \"))\n",
    "\n",
    "if number % 2 == 0:\n",
    "  print(\"The number is even.\")\n",
    "else:\n",
    "  print(\"The number is odd.\")"
   ]
  },
  {
   "cell_type": "raw",
   "id": "07c7b0b1-88cf-4104-b88c-474e9a690b95",
   "metadata": {},
   "source": [
    "Q18. What are boolean operator?\n",
    "Ans-\n",
    "Boolean Operators are simple words (AND, OR, NOT or AND NOT) used as conjunctions to combine or exclude keywords in a search, resulting in more focused and productive results. This should save time and effort by eliminating inappropriate hits that must be scanned before discarding."
   ]
  },
  {
   "cell_type": "raw",
   "id": "5e3697ae-11fa-4857-a51f-159813671fa9",
   "metadata": {},
   "source": [
    "Q19. What will the output of the following?"
   ]
  },
  {
   "cell_type": "raw",
   "id": "4aae6a7f-7117-4b99-95ce-410e1d81db6b",
   "metadata": {},
   "source": [
    "1 or 0-->1"
   ]
  },
  {
   "cell_type": "raw",
   "id": "f25ac8ff-0e79-4f80-a863-ad546a803a0e",
   "metadata": {},
   "source": [
    "0 and 0 --0"
   ]
  },
  {
   "cell_type": "raw",
   "id": "e3682e0b-6548-4604-9323-a201e56692dc",
   "metadata": {},
   "source": [
    "True and False and True -->False"
   ]
  },
  {
   "cell_type": "raw",
   "id": "d2b25db1-f7c4-4e21-bed2-eabf3c3383b5",
   "metadata": {},
   "source": [
    "1 or 0 or 0 -->1"
   ]
  },
  {
   "cell_type": "raw",
   "id": "45d6d046-e197-4628-b78b-2a092859ffbe",
   "metadata": {},
   "source": [
    "Q20. What are conditional statements in Python?\n",
    "Conditional statements in Python are used to make decisions based on whether or not a condition is true. The syntax for a conditional statement is:\n",
    "\n",
    "if condition:\n",
    "    # code to execute if condition is true\n",
    "else:\n",
    "    # code to execute if condition is false"
   ]
  },
  {
   "cell_type": "raw",
   "id": "95ee66b5-6a3a-4f72-9bdf-d225c3696a2d",
   "metadata": {},
   "source": [
    "Q21. What is use of 'if', 'elif' and 'else' keywords?\n",
    "In Python, the if, elif, and else keywords are conditional statements that allow you to \n",
    "control the flow of your program based on conditions that you specify. \n",
    "z = 7\n",
    "\n",
    "if z > 8:\n",
    "  print(\"I won't print!\") #this statement does not execute\n",
    "elif z > 5:\n",
    "  print(\"I will!\") #this statement will execute\n",
    "elif z > 6:\n",
    "  print(\"I also won't print!\") #this statement does not execute\n",
    "else:\n",
    "  print(\"Neither will I!\") #this statement does not execute"
   ]
  },
  {
   "cell_type": "raw",
   "id": "a70c0dab-588c-4f33-a404-7dd6eb5ad73e",
   "metadata": {},
   "source": [
    "Q22. Write a code to take the age of person as an input and if age >= 18 display \"I can vote\". If age is < 18 display \"I\n",
    "can't vote\".\n",
    "\n",
    "Ans-\n",
    "\n",
    "age = int(input(\"Enter a age: \"))\n",
    "\n",
    "if age>=18:\n",
    "  print(\"I can Vote.\")\n",
    "else:\n",
    "  print(\"I Can't Vote.\")"
   ]
  },
  {
   "cell_type": "raw",
   "id": "2ede48e7-849d-4982-ae57-ee22b433fdd8",
   "metadata": {},
   "source": [
    "Q23. Write a code that displays the sum of all the even numbers from the given list.\n",
    "numbers = [12, 75, 150, 180, 145, 525, 50]"
   ]
  },
  {
   "cell_type": "code",
   "execution_count": 15,
   "id": "61b18c07-5d0b-4435-a351-941b8d195f3e",
   "metadata": {},
   "outputs": [
    {
     "name": "stdout",
     "output_type": "stream",
     "text": [
      "392\n"
     ]
    }
   ],
   "source": [
    "numbers = [12, 75, 150, 180, 145, 525, 50]\n",
    "sum=0\n",
    "for i in numbers:\n",
    "    if i%2==0:\n",
    "        sum=sum+i\n",
    "print(sum)\n",
    "        "
   ]
  },
  {
   "cell_type": "raw",
   "id": "8e0f9ad1-de0d-40a4-be1d-763a22382365",
   "metadata": {},
   "source": [
    "Q24. Write a code to take 3 numbers as an input from the user and display the greatest no as output."
   ]
  },
  {
   "cell_type": "code",
   "execution_count": 16,
   "id": "aeaed27b-57fd-4208-817c-c446933293dc",
   "metadata": {},
   "outputs": [
    {
     "name": "stdin",
     "output_type": "stream",
     "text": [
      "Enter first number:  1\n",
      "Enter second number:  2\n",
      "Enter third number:  3\n"
     ]
    },
    {
     "name": "stdout",
     "output_type": "stream",
     "text": [
      "3 is the greatest number.\n"
     ]
    }
   ],
   "source": [
    "a = int(input(\"Enter first number: \"))\n",
    "b = int(input(\"Enter second number: \"))\n",
    "c = int(input(\"Enter third number: \"))\n",
    "\n",
    "# Find the greatest number\n",
    "if a >= b and a >= c:\n",
    "    print(f\"{a} is the greatest number.\")\n",
    "elif b >= a and b >= c:\n",
    "    print(f\"{b} is the greatest number.\")\n",
    "else:\n",
    "    print(f\"{c} is the greatest number.\")"
   ]
  },
  {
   "cell_type": "raw",
   "id": "f884174d-f3ed-421f-b2d7-71cc3deb78c9",
   "metadata": {},
   "source": [
    "Q25. Write a program to display only those numbers from a list that satisfy the following conditions\n",
    "• The number must be divisible by five\n",
    "• If the number is greater than 150, then skip it and move to the next number\n",
    "• If the number is greater than 500, then stop the loop\n",
    "numbers = [12, 75, 150, 180, 145, 525, 50]"
   ]
  },
  {
   "cell_type": "code",
   "execution_count": 17,
   "id": "d0319034-aefb-4d7c-bcac-a74ae7090cf3",
   "metadata": {},
   "outputs": [
    {
     "name": "stdout",
     "output_type": "stream",
     "text": [
      "[75, 150, 145]\n"
     ]
    }
   ],
   "source": [
    "a = [12, 75, 150, 180, 145, 525, 50]\n",
    "b = []\n",
    "for i in a:\n",
    "    if i > 150:\n",
    "        if i > 500:\n",
    "            break\n",
    "        continue\n",
    "    if i % 5 == 0:\n",
    "        b.append(i)\n",
    "        \n",
    "print(b)"
   ]
  },
  {
   "cell_type": "code",
   "execution_count": null,
   "id": "987cb414-8377-4a83-94c4-f6889644f40e",
   "metadata": {},
   "outputs": [],
   "source": []
  }
 ],
 "metadata": {
  "kernelspec": {
   "display_name": "Python 3 (ipykernel)",
   "language": "python",
   "name": "python3"
  },
  "language_info": {
   "codemirror_mode": {
    "name": "ipython",
    "version": 3
   },
   "file_extension": ".py",
   "mimetype": "text/x-python",
   "name": "python",
   "nbconvert_exporter": "python",
   "pygments_lexer": "ipython3",
   "version": "3.10.6"
  }
 },
 "nbformat": 4,
 "nbformat_minor": 5
}
